{
 "cells": [
  {
   "cell_type": "markdown",
   "id": "2f408c37-a3d7-4cf2-9b8c-2ddea0119137",
   "metadata": {},
   "source": [
    "# Homework 3\n",
    "## Northwestern University MLDS\n",
    "## Introduction to Data Engineering"
   ]
  },
  {
   "cell_type": "markdown",
   "id": "76c6f5b7-8d0c-48ab-8ae0-06ba1b8256a9",
   "metadata": {},
   "source": [
    "Your task is to set up an environment that can read in data and find a few interesting notes about the dataset. The focus of this assignment is not to explore the data entirely, but rather to build a public environment that can instruct a user to download the data and run the repository through the terminal in a few, simple steps.\n",
    "\n",
    "Download the information about [passengers aboard the infamous Titanic disaster on April 15, 1912.](https://www.kaggle.com/competitions/titanic/code) You will be asked not only to build a model that predicts the survival of each passenger, but also instruct a user how to run through the repo that will load the data, adjust the dataset in any way, and make a prediction.\n",
    "\n",
    "You will be graded on:\n",
    "- The detailed instructions to run your repo\n",
    "- The ease to which you can run the code in your repo\n",
    "- How your repo is formatted (i.e. no unnecessary files in your repo)\n",
    "\n",
    "**If any of the following requirements are not fully satisfied in your submission, significant points will be deducted:**\n",
    "- You must submit a link to your GitHub repository for the assignment. Do not submit a zipped file of your materials. **Do not include the dataset.**\n",
    "- Your public repository must have clear instructions on how to run the dataset. Failure to do this may lead to significant points being deducted if the grader of the assignment cannot successfully run the repo.\n"
   ]
  },
  {
   "cell_type": "markdown",
   "id": "4ac643fc-65e8-44ac-8179-cc592832ec9b",
   "metadata": {},
   "source": [
    "## Part 1 - GitHub setup\n",
    "\n",
    "1. Build a GitHub repository for this assignment. Title it however way you like, providing some indication relating to the dataset (ex: titanic-disaster).\n",
    "2. Set up a main/master and a develop/dev branch. Create a third branch off the develop branch where you will write your code.\n",
    "3. Clone your repo in GitHub Desktop and load your repo to a text editor.\n",
    "4. Create a folder `src` that will hold all of your code, as well as a folder `data` inside of it.\n",
    "6. Create a `.gitignore` file in the main folder. Make sure to include the data folder and any additional hidden files (ex: `.DS_Store`) in the file.\n",
    "7. OPTIONAL: create a `CODEOWNERS` file so that you are the only one that is allowed to push on the repo.\n",
    "8. Commit these changes on your local branch. Create a pull request that will push your changes to the `develop` branch, then another pull request that will push `develop` to `master`. Make sure to include a summary of your commit for both."
   ]
  },
  {
   "cell_type": "markdown",
   "id": "941119df-960b-424f-8912-a0b6bc30f847",
   "metadata": {},
   "source": [
    "## Part 2 - Environment setup\n",
    "\n",
    "9. Add a folder within `src` to run your code.\n",
    "10. If you'd like, before building out a `Dockerfile` you can create a virtual environment to help test your code. Ensure that your virtual environment is in your `.gitignore` file. \n",
    "11. Add a `requirements.txt` file that loads any packages that you will need for the assignment. Make sure to specify your package versions.\n",
    "12. Create a `Dockerfile` that can run a `.py` script and will download your `requirements.txt` file."
   ]
  },
  {
   "cell_type": "markdown",
   "id": "89058216-d8aa-4000-97c5-fc4fa6415aeb",
   "metadata": {},
   "source": [
    "## Part 3 - With the data\n",
    "\n",
    "13. Create your `.py` script. Load in any packages and load in `train.csv` dataset.\n",
    "    - Now might be a good time to begin running your Docker Image and Container and add a few print statements to ensure that you are properly running!\n",
    "14. Explore, add, and adjust the data as you see fit. \n",
    "15. Build a logistic regression model to predict survivability on the training set using any features that you see fit.\n",
    "16. Measure the accuracy of your model on the training set.\n",
    "17. Load `test.csv` and predict your model on the test set.\n",
    "18. Measure the accuracy of your model on the test set.\n",
    "19. For questions 14-18, ensure you have print statements on all changes that you make. This will show through the terminal all of your different changes. The grader does not need to see your code in your `.py` script - only the outputs.\n",
    "20. Build your `Dockerfile` and run it. Ensure the script runs successfully with your packages.\n",
    "21. Commit your changes. Comment on the changes that you've made. Create a pull request to load to the develop branch."
   ]
  },
  {
   "cell_type": "markdown",
   "id": "4cc540a8-828e-430b-89d1-bc72755e306d",
   "metadata": {},
   "source": [
    "## Part 4 - Do it again!\n",
    "\n",
    "21. Add a new folder within `src` for a new container - this time in R.\n",
    "22. Create a `Dockerfile`, an `install_packages.R` file and a `.R` script.\n",
    "23. Load in any packages and the `train.csv` dataset.\n",
    "24. Repeat questions 14-21. It can be the exact same style, if you'd like, or you can build a different model with different features."
   ]
  },
  {
   "cell_type": "markdown",
   "id": "f91eaa5b-ca24-45cb-971f-b75143f01fed",
   "metadata": {},
   "source": [
    "## Part 5 - Finishing up\n",
    "\n",
    "25. Create a pull request that will submit your changes from the develop branch to the master branch.\n",
    "26. Write out a README file that details how to download the data, as well as how to run your code with your Dockerfile in R and your Dockerfile in Python. Detail it!!! This is the most important part of the assignment. The grader should be able to clone your repo, read through the README file and run your Dockerfiles in only a few steps. "
   ]
  }
 ],
 "metadata": {
  "kernelspec": {
   "display_name": "Python [conda env:base] *",
   "language": "python",
   "name": "conda-base-py"
  },
  "language_info": {
   "codemirror_mode": {
    "name": "ipython",
    "version": 3
   },
   "file_extension": ".py",
   "mimetype": "text/x-python",
   "name": "python",
   "nbconvert_exporter": "python",
   "pygments_lexer": "ipython3",
   "version": "3.13.5"
  }
 },
 "nbformat": 4,
 "nbformat_minor": 5
}
